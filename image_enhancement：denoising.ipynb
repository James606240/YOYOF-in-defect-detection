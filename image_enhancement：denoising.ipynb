{
 "cells": [
  {
   "cell_type": "code",
   "execution_count": 3,
   "metadata": {
    "pycharm": {
     "name": "#%%\n"
    }
   },
   "outputs": [],
   "source": [
    "import cv2\n",
    "import mmcv\n",
    "import glob as glob\n",
    "import os"
   ]
  },
  {
   "cell_type": "code",
   "execution_count": 4,
   "metadata": {
    "pycharm": {
     "name": "#%%\n"
    }
   },
   "outputs": [],
   "source": [
    "# A. 輸入之圖片位置\n",
    "DIR_TEST = './input/data_root/dataset/JPEGImages'\n",
    "\n",
    "image_paths = glob.glob(f\"{DIR_TEST}/*.jpg\")\n",
    "\n",
    "for i, image_path in enumerate(image_paths):\n",
    "    image = mmcv.imread(image_path)\n",
    "    # 降噪方式(原本)(de_1)\n",
    "    # fastNlMeansDenoisingColored(1., 2., 3., 4., 5.)\n",
    "    # 1. src：輸入 8 位 3 通道圖像。\n",
    "    # 2. dst：輸出與 src 大小和類型相同的圖像。\n",
    "    # 3. h : 調節亮度分量過濾強度的參數。較大的 h 值完美地去除了噪聲但也去除了圖像細節，較小的 h 值保留了細節但也保留了一些噪聲。\n",
    "    # 4. templateWindowSize：用於計算權重的模板補丁的大小（以像素為單位）。須為奇數。推薦值 7 像素。\n",
    "    # 5. searchWindowSize：用於計算給定像素的加權平均值的窗口大小（以像素為單位）。應該是奇葩。線性影響性能：更大的 searchWindowsSize - 更大的去噪時間。推薦值 21 像素。\n",
    "    # dst = cv2.fastNlMeansDenoisingColored(image, None, 10, 10, 7, 15)\n",
    "\n",
    "\n",
    "    # 尚未測試(https://www.bogotobogo.com/python/OpenCV_Python/python_opencv3_Image_Non-local_Means_Denoising_Algorithm_Noise_Reduction.php)\n",
    "    # 其推薦改為以下效果更好(de_2)：\n",
    "    dst = cv2.fastNlMeansDenoising(image,None,10,7,21)\n",
    "\n",
    "\n",
    "    # Initialize a file name to save the reuslt.\n",
    "    save_name = f\"{image_path.split(os.path.sep)[-1].split('.')[0]}\"\n",
    "# B.輸出照片位置\n",
    "    mmcv.imwrite(dst, f\"./image_enhancement/denoising/{save_name}.jpg\")"
   ]
  }
 ],
 "metadata": {
  "kernelspec": {
   "display_name": "Python 3 (ipykernel)",
   "language": "python",
   "name": "python3"
  },
  "language_info": {
   "codemirror_mode": {
    "name": "ipython",
    "version": 3
   },
   "file_extension": ".py",
   "mimetype": "text/x-python",
   "name": "python",
   "nbconvert_exporter": "python",
   "pygments_lexer": "ipython3",
   "version": "3.9.12"
  }
 },
 "nbformat": 4,
 "nbformat_minor": 1
}