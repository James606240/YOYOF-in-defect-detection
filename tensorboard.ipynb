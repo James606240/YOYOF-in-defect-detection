{
 "cells": [
  {
   "cell_type": "code",
   "execution_count": 4,
   "metadata": {
    "pycharm": {
     "name": "#%%\n"
    }
   },
   "outputs": [],
   "source": [
    "import os"
   ]
  },
  {
   "cell_type": "code",
   "execution_count": 5,
   "metadata": {
    "pycharm": {
     "name": "#%%\n"
    },
    "scrolled": true
   },
   "outputs": [],
   "source": [
    "# os.system(\"start \\\"\\\" http://localhost:8889/notebooks/%402_All_AI(PT)/tensorboard.ipynb\")"
   ]
  },
  {
   "cell_type": "code",
   "execution_count": 6,
   "outputs": [
    {
     "name": "stderr",
     "output_type": "stream",
     "text": [
      "UsageError: Line magic function `%tensorboard` not found.\n"
     ]
    }
   ],
   "source": [
    "# %load_ext tensorboard.notebook\n",
    "# %tensorboard --logdir=tensorboard1\n",
    "# %tensorboard --logdir ./tensorboard1 --bind_all\n",
    "\n",
    "#%load_ext tensorboard\n",
    "%tensorboard --logdir tensorboard\n",
    "\n",
    "# %tensorboard --logdir tensorboard\n",
    "# %tensorboard --logdir=C:\\Users\\James\\Desktop\\tensorboard1\n",
    "# %tensorboard --logdir tensorboard1 --bind_all\n",
    "# 下圖顯示是錯的，以瀏覽器為準"
   ],
   "metadata": {
    "collapsed": false,
    "pycharm": {
     "name": "#%%\n"
    }
   }
  },
  {
   "cell_type": "code",
   "execution_count": null,
   "outputs": [],
   "source": [
    "os.system(\"start \\\"\\\" http://localhost:6006\")"
   ],
   "metadata": {
    "collapsed": false,
    "pycharm": {
     "name": "#%%\n"
    }
   }
  }
 ],
 "metadata": {
  "kernelspec": {
   "display_name": "Python 3 (ipykernel)",
   "language": "python",
   "name": "python3"
  },
  "language_info": {
   "codemirror_mode": {
    "name": "ipython",
    "version": 3
   },
   "file_extension": ".py",
   "mimetype": "text/x-python",
   "name": "python",
   "nbconvert_exporter": "python",
   "pygments_lexer": "ipython3",
   "version": "3.9.12"
  }
 },
 "nbformat": 4,
 "nbformat_minor": 1
}