{
 "cells": [
  {
   "cell_type": "code",
   "execution_count": 1,
   "outputs": [],
   "source": [
    "#(失敗) https://www.analyticsvidhya.com/blog/2021/08/sharpening-an-image-using-opencv-library-in-python/\n",
    "# https://www.wongwonggoods.com/python/python_opencv/opencv-sharpen-images/"
   ],
   "metadata": {
    "collapsed": false,
    "pycharm": {
     "name": "#%%\n"
    }
   }
  },
  {
   "cell_type": "code",
   "execution_count": 2,
   "outputs": [],
   "source": [
    "import cv2\n",
    "import mmcv\n",
    "import glob as glob\n",
    "import os"
   ],
   "metadata": {
    "collapsed": false,
    "pycharm": {
     "name": "#%%\n"
    }
   }
  },
  {
   "cell_type": "code",
   "execution_count": 3,
   "metadata": {
    "pycharm": {
     "name": "#%%\n"
    }
   },
   "outputs": [],
   "source": [
    "# A. 輸入之圖片位置\n",
    "DIR_TEST = './image_enhancement/super_resolution/BSRGAN'\n",
    "\n",
    "image_paths = glob.glob(f\"{DIR_TEST}/*.png\")\n",
    "\n",
    "for i, image_path in enumerate(image_paths):\n",
    "    image = mmcv.imread(image_path)\n",
    "\n",
    "\n",
    "    blur_img = cv2.GaussianBlur(image, (0, 0), 100)\n",
    "    usm = cv2.addWeighted(image, 1.5, blur_img, -0.5, 0)\n",
    "\n",
    "\n",
    "    # Initialize a file name to save the reuslt.\n",
    "    save_name = f\"{image_path.split(os.path.sep)[-1].split('.')[0]}\"\n",
    "# B.輸出照片位置\n",
    "    mmcv.imwrite(usm, f\"./image_enhancement/super_resolution+sharpening/{save_name}.jpg\")"
   ]
  }
 ],
 "metadata": {
  "kernelspec": {
   "display_name": "Python 3 (ipykernel)",
   "language": "python",
   "name": "python3"
  },
  "language_info": {
   "codemirror_mode": {
    "name": "ipython",
    "version": 3
   },
   "file_extension": ".py",
   "mimetype": "text/x-python",
   "name": "python",
   "nbconvert_exporter": "python",
   "pygments_lexer": "ipython3",
   "version": "3.9.12"
  }
 },
 "nbformat": 4,
 "nbformat_minor": 1
}