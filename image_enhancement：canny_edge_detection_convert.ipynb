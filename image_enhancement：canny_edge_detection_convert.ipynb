{
 "cells": [
  {
   "cell_type": "code",
   "execution_count": 7,
   "metadata": {
    "pycharm": {
     "name": "#%%\n"
    }
   },
   "outputs": [],
   "source": [
    "# https://ithelp.ithome.com.tw/articles/10202295\n",
    "# https://ithelp.ithome.com.tw/articles/10245342"
   ]
  },
  {
   "cell_type": "code",
   "execution_count": 8,
   "metadata": {
    "pycharm": {
     "name": "#%%\n"
    }
   },
   "outputs": [],
   "source": [
    "import cv2\n",
    "import mmcv\n",
    "import glob as glob\n",
    "import os"
   ]
  },
  {
   "cell_type": "code",
   "execution_count": 9,
   "outputs": [],
   "source": [
    "# A. 輸入之圖片位置\n",
    "DIR_TEST = './input/data_root/dataset/JPEGImages'\n",
    "\n",
    "image_paths = glob.glob(f\"{DIR_TEST}/*.jpg\")\n",
    "\n",
    "for i, image_path in enumerate(image_paths):\n",
    "    image = mmcv.imread(image_path)\n",
    "    # 轉成灰階\n",
    "    gray = cv2.cvtColor(image, cv2.COLOR_RGB2GRAY)\n",
    "    # 高斯模糊(高斯平滑)，與計算核心大小\n",
    "    kernel_size = 3\n",
    "    blur_gray = cv2.GaussianBlur(gray,(kernel_size, kernel_size), 0)\n",
    "    # 灰階圖片的值介於 0~255 之間\n",
    "    # 高於 high_threshold: 為 strong edge ，我們直接保留\n",
    "    # 介於 low_threshold 與 high_threshold: 為 weak edge ，Canny會檢測 weak edge 是否能與 strong edge 相連，如果會相連的才會被保留。\n",
    "    # 低於 low_threshold: 我們都不當作 edge\n",
    "\n",
    "    #1 high_threshold = 200\n",
    "    #1 low_threshold = 150\n",
    "    #2 high_threshold = 150\n",
    "    #2 low_threshold = 50\n",
    "\n",
    "    high_threshold = 0\n",
    "    low_threshold = 0\n",
    "\n",
    "    edges = cv2.Canny(blur_gray, low_threshold, high_threshold)\n",
    "\n",
    "    # 顯示偵測結果圖片\n",
    "    # mmcv.imshow(frame)\n",
    "\n",
    "    # 原本黑色轉白色\n",
    "    dst = 255 - edges\n",
    "\n",
    "    # Initialize a file name to save the reuslt.\n",
    "    save_name = f\"{image_path.split(os.path.sep)[-1].split('.')[0]}\"\n",
    "# B.輸出照片位置\n",
    "    mmcv.imwrite(dst, f\"./image_enhancement/canny_edge_detection/{save_name}.jpg\")"
   ],
   "metadata": {
    "collapsed": false,
    "pycharm": {
     "name": "#%%\n"
    }
   }
  }
 ],
 "metadata": {
  "kernelspec": {
   "display_name": "Python 3 (ipykernel)",
   "language": "python",
   "name": "python3"
  },
  "language_info": {
   "codemirror_mode": {
    "name": "ipython",
    "version": 3
   },
   "file_extension": ".py",
   "mimetype": "text/x-python",
   "name": "python",
   "nbconvert_exporter": "python",
   "pygments_lexer": "ipython3",
   "version": "3.9.12"
  }
 },
 "nbformat": 4,
 "nbformat_minor": 1
}